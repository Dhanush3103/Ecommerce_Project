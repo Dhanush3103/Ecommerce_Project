{
 "cells": [
  {
   "cell_type": "markdown",
   "id": "9deadaca-1db5-4590-a365-36631b347bb0",
   "metadata": {},
   "source": [
    "## Project II --- E-Commerce project"
   ]
  },
  {
   "cell_type": "code",
   "execution_count": 1,
   "id": "20db162c-a2b6-44e1-83dc-a230a65f2ef4",
   "metadata": {},
   "outputs": [
    {
     "name": "stderr",
     "output_type": "stream",
     "text": [
      "2024-11-11 17:23:50.315 \n",
      "  \u001b[33m\u001b[1mWarning:\u001b[0m to view this Streamlit app on a browser, run it with the following\n",
      "  command:\n",
      "\n",
      "    streamlit run C:\\Users\\Dell\\AppData\\Local\\Programs\\Python\\Python312\\Lib\\site-packages\\ipykernel_launcher.py [ARGUMENTS]\n",
      "2024-11-11 17:23:50.319 Session state does not function when running a script without `streamlit run`\n"
     ]
    }
   ],
   "source": [
    "import streamlit as st\n",
    "import pandas as pd\n",
    "import joblib\n",
    "import numpy as np\n",
    "import matplotlib.pyplot as plt\n",
    "import seaborn as sns\n",
    "\n",
    "# Load the trained Linear Regression model\n",
    "model = joblib.load('linear_model_joblib_final.pkl')\n",
    "\n",
    "# Streamlit app\n",
    "st.title(\"Customer Spending Prediction using Linear Regression\")\n",
    "\n",
    "# Collect user input\n",
    "st.header(\"Input Customer Features\")\n",
    "avg_session_length = st.number_input(\"Avg. Session Length\", min_value=0.0, step=0.1)\n",
    "time_on_app = st.number_input(\"Time on App (minutes)\", min_value=0.0, step=0.1)\n",
    "time_on_website = st.number_input(\"Time on Website (minutes)\", min_value=0.0, step=0.1)\n",
    "length_of_membership = st.number_input(\"Length of Membership (years)\", min_value=0.0, step=0.1)\n",
    "\n",
    "# Create a DataFrame with the input values\n",
    "input_data = pd.DataFrame({\n",
    "    \"Avg. Session Length\": [avg_session_length],\n",
    "    \"Time on App\": [time_on_app],\n",
    "    \"Time on Website\": [time_on_website],\n",
    "    \"Length of Membership\": [length_of_membership]\n",
    "})\n",
    "# Prediction\n",
    "if st.button(\"Predict\"):\n",
    "    prediction = model.predict(input_data)\n",
    "    st.subheader(\"Predicted Yearly Amount Spent:\")\n",
    "    st.write(f\"${prediction[0]:.2f}\")\n",
    "\n",
    "    # Visualization: Effect of Length of Membership on Spending\n",
    "    st.subheader(\"Visualization: Predicted Spending vs. Length of Membership\")\n",
    "    membership_range = np.linspace(0, 10, 100)  # Adjust the range as per your dataset\n",
    "    predictions = []\n",
    "    for membership_years in membership_range:\n",
    "        test_input = pd.DataFrame({\n",
    "            \"Avg. Session Length\": [avg_session_length],\n",
    "            \"Time on App\": [time_on_app],\n",
    "            \"Time on Website\": [time_on_website],\n",
    "            \"Length of Membership\": [membership_years]\n",
    "        })\n",
    "        pred = model.predict(test_input)[0]\n",
    "        predictions.append(pred)\n",
    "\n",
    "    # Create a plot\n",
    "    plt.figure(figsize=(10, 6))\n",
    "    sns.lineplot(x=membership_range, y=predictions)\n",
    "    plt.xlabel(\"Length of Membership (years)\")\n",
    "    plt.ylabel(\"Predicted Yearly Amount Spent\")\n",
    "    plt.title(\"Effect of Length of Membership on Predicted Spending\")\n",
    "    plt.grid(True)\n",
    "    st.pyplot(plt)\n"
   ]
  },
  {
   "cell_type": "code",
   "execution_count": null,
   "id": "64e8cc05-ffc8-463b-8152-69a3295f3196",
   "metadata": {},
   "outputs": [],
   "source": []
  }
 ],
 "metadata": {
  "kernelspec": {
   "display_name": "Python 3 (ipykernel)",
   "language": "python",
   "name": "python3"
  },
  "language_info": {
   "codemirror_mode": {
    "name": "ipython",
    "version": 3
   },
   "file_extension": ".py",
   "mimetype": "text/x-python",
   "name": "python",
   "nbconvert_exporter": "python",
   "pygments_lexer": "ipython3",
   "version": "3.12.4"
  }
 },
 "nbformat": 4,
 "nbformat_minor": 5
}
